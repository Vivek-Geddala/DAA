{
  "nbformat": 4,
  "nbformat_minor": 0,
  "metadata": {
    "colab": {
      "provenance": [],
      "authorship_tag": "ABX9TyMmMDpVblhtUEi0+BbWARZx",
      "include_colab_link": true
    },
    "kernelspec": {
      "name": "python3",
      "display_name": "Python 3"
    },
    "language_info": {
      "name": "python"
    }
  },
  "cells": [
    {
      "cell_type": "markdown",
      "metadata": {
        "id": "view-in-github",
        "colab_type": "text"
      },
      "source": [
        "<a href=\"https://colab.research.google.com/github/Vivek-Geddala/DAA/blob/main/Pythoncode.ipynb\" target=\"_parent\"><img src=\"https://colab.research.google.com/assets/colab-badge.svg\" alt=\"Open In Colab\"/></a>"
      ]
    },
    {
      "cell_type": "code",
      "execution_count": 1,
      "metadata": {
        "colab": {
          "base_uri": "https://localhost:8080/"
        },
        "id": "qWin4DL5NVPM",
        "outputId": "db068b35-8911-4b51-c0dd-7db37af8f5d4"
      },
      "outputs": [
        {
          "output_type": "stream",
          "name": "stdout",
          "text": [
            "11\n"
          ]
        }
      ],
      "source": [
        "x=5\n",
        "y=6\n",
        "print(x+y)"
      ]
    },
    {
      "cell_type": "code",
      "source": [
        "x=int(input(\"Enter x value:\"))\n",
        "y=int(input(\"Enter y value:\"))\n",
        "print(x+y)"
      ],
      "metadata": {
        "colab": {
          "base_uri": "https://localhost:8080/"
        },
        "id": "d25_uEjkOR2D",
        "outputId": "bab4d6ce-1b92-48d0-fd23-b2d75e985380"
      },
      "execution_count": 4,
      "outputs": [
        {
          "output_type": "stream",
          "name": "stdout",
          "text": [
            "Enter x value:6\n",
            "Enter y value:19\n",
            "25\n"
          ]
        }
      ]
    },
    {
      "cell_type": "code",
      "source": [
        "x=int(input(\"Enter x value:\"))\n",
        "y=int(input(\"Enter y value:\"))\n",
        "c=input(\"Operation:\")\n",
        "if c==\"+\":\n",
        "  print(x+y)\n",
        "elif c==\"-\":\n",
        "  print(x-y)\n",
        "else:\n",
        "  print(\"No\")"
      ],
      "metadata": {
        "colab": {
          "base_uri": "https://localhost:8080/"
        },
        "id": "QnBaP5ArPZSz",
        "outputId": "15caefe2-9477-4b7f-dfa9-11eaa7fc054d"
      },
      "execution_count": 5,
      "outputs": [
        {
          "output_type": "stream",
          "name": "stdout",
          "text": [
            "Enter x value:34\n",
            "Enter y value:12\n",
            "Operation:+\n",
            "46\n"
          ]
        }
      ]
    }
  ]
}